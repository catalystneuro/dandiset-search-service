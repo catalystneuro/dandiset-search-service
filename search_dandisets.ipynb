{
 "cells": [
  {
   "cell_type": "markdown",
   "id": "0f770e71-5f6c-43d2-9c4d-4ab796c3c232",
   "metadata": {},
   "source": [
    "# Identify Dandisets relevant to a scientific question\n",
    "\n",
    "\n",
    "## Motivation\n",
    "\n",
    "We want to provide a system that, based on the user's questions, suggests dandisets that could be of relevance. The hope is that ChatGPT will be able to use semantic information of the question and return better results than simple text matching.\n",
    "\n",
    "## Plan of action\n",
    " \n",
    "\n",
    "### 1. Collect metadata from dandisets.\n",
    "<img src=\"step1_embed_dandiset_metadata.jpg\" style=\"width: 700px;\" />\n",
    "For each Dandiset:\n",
    "\n",
    "- get name, description, \n",
    "- get assets summary: approaches, measurement techniques, variables measured\n",
    "- for species, we can get accurate info from NCBITaxon, if it's included\n",
    "- (?) get related resources: scrape title/summary from articles\n",
    "- Use OpenAI ada-002 to vectorize each information piece\n",
    "- Store the vectors in Qdrant, have the original dandiset id as object metadata for each vector\n",
    "- (?) any useful extra info we could include on object metadata, for later filtered searches?\n",
    "\n",
    "### 2. Process user questions\n",
    "<img src=\"step2_do_search.jpg\" style=\"width: 700px;\" />\n",
    "\n",
    "- User queries can come in the form of questions, e.g.: \"Which datasets can I use to investigate the effects of drug YYYY on cells of type XXXX?\"\n",
    "- For method 1, the question is passed directly to a semantic embedding API using OpenAI.\n",
    "- For method 2, a prompt instructs the LLM to extract useful neuroscience research-related keywords from the question, and proceed to use the semantic search engine. We can achieve this using [OpenAI functions](https://openai.com/blog/function-calling-and-other-api-updates)\n",
    "- (simple approach) We return the dandiset IDs present in the top results \n",
    "- (advanced approach) We gather the text content of the collected metadata for the dandisets in the top results and include them in a prompt together with the user's original question and a default instruction such as: \"Given the user question and the listed reference datasets, which datasets could help address the user's question, and why?\""
   ]
  },
  {
   "cell_type": "markdown",
   "id": "6a0a4a05",
   "metadata": {},
   "source": [
    "```bash\n",
    "pip install -r requirements.txt\n",
    "export OPENAI_API_KEY=<your-openai-api-key>\n",
    "docker run -p 6333:6333 -v ~/qdrant_storage:/qdrant/storage qdrant/qdrant:latest\n",
    "```"
   ]
  },
  {
   "cell_type": "code",
   "execution_count": 1,
   "id": "97fa66ca",
   "metadata": {
    "tags": []
   },
   "outputs": [],
   "source": [
    "%load_ext autoreload\n",
    "%autoreload 2"
   ]
  },
  {
   "cell_type": "code",
   "execution_count": 6,
   "id": "f568c49f-aee0-4e01-a2cf-3761df040a83",
   "metadata": {
    "tags": []
   },
   "outputs": [],
   "source": [
    "from rest.clients.dandi import DandiClient\n",
    "from rest.clients.qdrant import QdrantClient\n",
    "from rest.clients.openai import OpenaiClient\n",
    "import json\n",
    "\n",
    "dandi_client = DandiClient()\n",
    "qdrant_client = QdrantClient()\n",
    "openai_client = OpenaiClient()"
   ]
  },
  {
   "cell_type": "code",
   "execution_count": 7,
   "id": "7260b3d0-15ad-4b90-a228-b4f44113a3eb",
   "metadata": {
    "tags": []
   },
   "outputs": [],
   "source": [
    "# Get all dandisets metadata\n",
    "all_metadata = dandi_client.get_all_dandisets_metadata()"
   ]
  },
  {
   "cell_type": "code",
   "execution_count": 24,
   "id": "3ab3444f-fc72-43bf-855f-d9dc23b2c60c",
   "metadata": {
    "tags": []
   },
   "outputs": [],
   "source": [
    "# Extract only relevant text fields from metadata\n",
    "all_metadata_formatted = dandi_client.collect_relevant_metadata(metadata_list=all_metadata)"
   ]
  },
  {
   "cell_type": "code",
   "execution_count": 25,
   "id": "d0993e90-c9ae-4fa8-a6c5-598e2a3c2d14",
   "metadata": {
    "tags": []
   },
   "outputs": [
    {
     "name": "stdout",
     "output_type": "stream",
     "text": [
      "Number of items:  167\n"
     ]
    },
    {
     "data": {
      "text/plain": [
       "{'dandiset_id': 'DANDI:000005/0.220126.1853',\n",
       " 'title': 'Electrophysiology data from thalamic and cortical neurons during somatosensation',\n",
       " 'description': 'intracellular and extracellular electrophysiology recordings performed on mouse barrel cortex and ventral posterolateral nucleus (vpm) in whisker-based object locating task.',\n",
       " 'approaches': ['electrophysiological approach', 'optogenetic approach'],\n",
       " 'measurement_techniques': ['current clamp technique',\n",
       "  'surgical technique',\n",
       "  'spike sorting technique'],\n",
       " 'variables_measured': ['CurrentClampStimulusSeries',\n",
       "  'CurrentClampSeries',\n",
       "  'OptogeneticSeries',\n",
       "  'ElectrodeGroup',\n",
       "  'Units'],\n",
       " 'species': ['House mouse']}"
      ]
     },
     "execution_count": 25,
     "metadata": {},
     "output_type": "execute_result"
    }
   ],
   "source": [
    "print(\"Number of items: \", len(all_metadata_formatted))\n",
    "all_metadata_formatted[0]"
   ]
  },
  {
   "cell_type": "code",
   "execution_count": 28,
   "id": "7c2a82e3-321b-4bed-986d-1067133919a0",
   "metadata": {
    "tags": []
   },
   "outputs": [
    {
     "name": "stdout",
     "output_type": "stream",
     "text": [
      "Title: Electrophysiology data from thalamic and cortical neurons during somatosensation\n",
      "Description: intracellular and extracellular electrophysiology recordings performed on mouse barrel cortex and ventral posterolateral nucleus (vpm) in whisker-based object locating task.\n",
      "Approaches: electrophysiological approach, optogenetic approach\n",
      "Measurement techniques: current clamp technique, surgical technique, spike sorting technique\n",
      "Variables measured: CurrentClampStimulusSeries, CurrentClampSeries, OptogeneticSeries, ElectrodeGroup, Units\n",
      "Species: House mouse\n",
      "\n"
     ]
    }
   ],
   "source": [
    "print(dandi_client.stringify_relevant_metadata(all_metadata_formatted[0]))"
   ]
  },
  {
   "cell_type": "code",
   "execution_count": null,
   "id": "89362d6c-60db-4816-94d4-9f42da278daf",
   "metadata": {},
   "outputs": [],
   "source": []
  },
  {
   "cell_type": "markdown",
   "id": "ac46414b-9e5d-4396-b339-cb14d777aecf",
   "metadata": {},
   "source": [
    "# Vector embeddings\n",
    "\n",
    "At this step, we generate vector embeddings for each property of the formatted metadata from each dandiset. After that, we insert the combination of vectors + payload (metadata information) to Qdrant.\n",
    "To run the cells below, you must have:\n",
    "- `OPENAI_API_KEY` set as environment variable\n",
    "- Qdrant service running [ref](https://qdrant.tech/documentation/quick-start/)"
   ]
  },
  {
   "cell_type": "code",
   "execution_count": 10,
   "id": "62629b61-de23-45c8-a9cd-c9dc9f90ac54",
   "metadata": {
    "scrolled": true,
    "tags": []
   },
   "outputs": [
    {
     "name": "stderr",
     "output_type": "stream",
     "text": [
      "Processing item DANDI:000012/draft: 100%|█████████████████████████| 10/10 [00:13<00:00,  1.34s/it]\n"
     ]
    }
   ],
   "source": [
    "# Generate vector embeddings all items in formatted metadata list\n",
    "# This can be slow and costs a few cents per run, so it's recommended to save results to disk and load it later on\n",
    "emb = openai_client=openai_client.get_embeddings(\n",
    "    metadata_list=all_metadata_formatted,\n",
    "    max_num_sets=10,\n",
    "    save_to_file=True\n",
    ")"
   ]
  },
  {
   "cell_type": "code",
   "execution_count": 13,
   "id": "e80e2246-5917-409a-8ee9-af14a21aa087",
   "metadata": {
    "tags": []
   },
   "outputs": [
    {
     "name": "stdout",
     "output_type": "stream",
     "text": [
      "{'dandiset_id': 'DANDI:000005/0.220126.1853', 'field': 'title', 'text_content': 'title: Electrophysiology data from thalamic and cortical neurons during somatosensation'}\n",
      "{'dandiset_id': 'DANDI:000005/0.220126.1853', 'field': 'description', 'text_content': 'description: intracellular and extracellular electrophysiology recordings performed on mouse barrel cortex and ventral posterolateral nucleus (vpm) in whisker-based object locating task.'}\n",
      "{'dandiset_id': 'DANDI:000005/0.220126.1853', 'field': 'approaches', 'text_content': 'approach: electrophysiological approach'}\n",
      "{'dandiset_id': 'DANDI:000005/0.220126.1853', 'field': 'approaches', 'text_content': 'approach: optogenetic approach'}\n",
      "{'dandiset_id': 'DANDI:000005/0.220126.1853', 'field': 'measurement_techniques', 'text_content': 'measurement technique: current clamp technique'}\n",
      "{'dandiset_id': 'DANDI:000005/0.220126.1853', 'field': 'measurement_techniques', 'text_content': 'measurement technique: surgical technique'}\n",
      "{'dandiset_id': 'DANDI:000005/0.220126.1853', 'field': 'measurement_techniques', 'text_content': 'measurement technique: spike sorting technique'}\n",
      "{'dandiset_id': 'DANDI:000005/0.220126.1853', 'field': 'variables_measured', 'text_content': 'variable measured: CurrentClampStimulusSeries'}\n",
      "{'dandiset_id': 'DANDI:000005/0.220126.1853', 'field': 'variables_measured', 'text_content': 'variable measured: CurrentClampSeries'}\n",
      "{'dandiset_id': 'DANDI:000005/0.220126.1853', 'field': 'variables_measured', 'text_content': 'variable measured: OptogeneticSeries'}\n",
      "{'dandiset_id': 'DANDI:000005/0.220126.1853', 'field': 'variables_measured', 'text_content': 'variable measured: ElectrodeGroup'}\n",
      "{'dandiset_id': 'DANDI:000005/0.220126.1853', 'field': 'variables_measured', 'text_content': 'variable measured: Units'}\n",
      "{'dandiset_id': 'DANDI:000005/0.220126.1853', 'field': 'species', 'text_content': 'species: House mouse'}\n",
      "{'dandiset_id': 'DANDI:000003/0.230629.1955', 'field': 'title', 'text_content': 'title: Physiological Properties and Behavioral Correlates of Hippocampal Granule Cells and Mossy Cells'}\n",
      "{'dandiset_id': 'DANDI:000003/0.230629.1955', 'field': 'description', 'text_content': 'description: Data from \"Physiological Properties and Behavioral Correlates of Hippocampal Granule Cells and Mossy Cells\" Senzai, Buzsaki, Neuron 2017. Electrophysiology recordings of hippocampus during theta maze exploration.'}\n",
      "{'dandiset_id': 'DANDI:000003/0.230629.1955', 'field': 'approaches', 'text_content': 'approach: electrophysiological approach'}\n",
      "{'dandiset_id': 'DANDI:000003/0.230629.1955', 'field': 'approaches', 'text_content': 'approach: behavioral approach'}\n",
      "{'dandiset_id': 'DANDI:000003/0.230629.1955', 'field': 'measurement_techniques', 'text_content': 'measurement technique: signal filtering technique'}\n",
      "{'dandiset_id': 'DANDI:000003/0.230629.1955', 'field': 'measurement_techniques', 'text_content': 'measurement technique: fourier analysis technique'}\n",
      "{'dandiset_id': 'DANDI:000003/0.230629.1955', 'field': 'measurement_techniques', 'text_content': 'measurement technique: spike sorting technique'}\n",
      "{'dandiset_id': 'DANDI:000003/0.230629.1955', 'field': 'measurement_techniques', 'text_content': 'measurement technique: behavioral technique'}\n",
      "{'dandiset_id': 'DANDI:000003/0.230629.1955', 'field': 'measurement_techniques', 'text_content': 'measurement technique: multi electrode extracellular electrophysiology recording technique'}\n",
      "{'dandiset_id': 'DANDI:000003/0.230629.1955', 'field': 'variables_measured', 'text_content': 'variable measured: DecompositionSeries'}\n",
      "{'dandiset_id': 'DANDI:000003/0.230629.1955', 'field': 'variables_measured', 'text_content': 'variable measured: LFP'}\n",
      "{'dandiset_id': 'DANDI:000003/0.230629.1955', 'field': 'variables_measured', 'text_content': 'variable measured: Units'}\n",
      "{'dandiset_id': 'DANDI:000003/0.230629.1955', 'field': 'variables_measured', 'text_content': 'variable measured: Position'}\n",
      "{'dandiset_id': 'DANDI:000003/0.230629.1955', 'field': 'variables_measured', 'text_content': 'variable measured: ElectricalSeries'}\n",
      "{'dandiset_id': 'DANDI:000003/0.230629.1955', 'field': 'species', 'text_content': 'species: House mouse'}\n",
      "{'dandiset_id': 'DANDI:000004/0.220126.1852', 'field': 'title', 'text_content': 'title: A NWB-based dataset and processing pipeline of human single-neuron activity during a declarative memory task'}\n",
      "{'dandiset_id': 'DANDI:000004/0.220126.1852', 'field': 'description', 'text_content': 'description: A challenge for data sharing in systems neuroscience is the multitude of different data formats used. Neurodata Without Borders: Neurophysiology 2.0 (NWB:N) has emerged as a standardized data format for the storage of cellular-level data together with meta-data, stimulus information, and behavior. A key next step to facilitate NWB:N adoption is to provide easy to use processing pipelines to import/export data from/to NWB:N. Here, we present a NWB-formatted dataset of 1863 single neurons recorded from the medial temporal lobes of 59 human subjects undergoing intracranial monitoring while they performed a recognition memory task. We provide code to analyze and export/import stimuli, behavior, and electrophysiological recordings to/from NWB in both MATLAB and Python. The data files are NWB:N compliant, which affords interoperability between programming languages and operating systems. This combined data and code release is a case study for how to utilize NWB:N for human single-neuron recordings and enables easy re-use of this hard-to-obtain data for both teaching and research on the mechanisms of human memory.'}\n",
      "{'dandiset_id': 'DANDI:000004/0.220126.1852', 'field': 'approaches', 'text_content': 'approach: electrophysiological approach'}\n",
      "{'dandiset_id': 'DANDI:000004/0.220126.1852', 'field': 'measurement_techniques', 'text_content': 'measurement technique: spike sorting technique'}\n",
      "{'dandiset_id': 'DANDI:000004/0.220126.1852', 'field': 'measurement_techniques', 'text_content': 'measurement technique: surgical technique'}\n",
      "{'dandiset_id': 'DANDI:000004/0.220126.1852', 'field': 'variables_measured', 'text_content': 'variable measured: Units'}\n",
      "{'dandiset_id': 'DANDI:000004/0.220126.1852', 'field': 'variables_measured', 'text_content': 'variable measured: ElectrodeGroup'}\n",
      "{'dandiset_id': 'DANDI:000004/0.220126.1852', 'field': 'species', 'text_content': 'species: Human'}\n",
      "{'dandiset_id': 'DANDI:000025/draft', 'field': 'title', 'text_content': 'title: Example intracellular ephys data from LNMC & BBP'}\n",
      "{'dandiset_id': 'DANDI:000025/draft', 'field': 'description', 'text_content': 'description: This is a single session showing example intracellular electrophysiology data collected at the Laboratory of Neural Microcircuitry, EPFL. This session holds a variety of different stimulation patterns. \\n\\nIt also serves as an example of the hierarchy of metadata tables (/general/intracellular_ephys/) and groups (/data_organization) storing sweeps of a complex experimental protocol.\\n\\nLoad this file in pynwb with load_namespaces = True.\\n'}\n",
      "{'dandiset_id': 'DANDI:000025/draft', 'field': 'approaches', 'text_content': 'approach: electrophysiological approach'}\n",
      "{'dandiset_id': 'DANDI:000025/draft', 'field': 'measurement_techniques', 'text_content': 'measurement technique: current clamp technique'}\n",
      "{'dandiset_id': 'DANDI:000025/draft', 'field': 'measurement_techniques', 'text_content': 'measurement technique: voltage clamp technique'}\n",
      "{'dandiset_id': 'DANDI:000025/draft', 'field': 'variables_measured', 'text_content': 'variable measured: VoltageClampSeries'}\n",
      "{'dandiset_id': 'DANDI:000025/draft', 'field': 'variables_measured', 'text_content': 'variable measured: CurrentClampStimulusSeries'}\n",
      "{'dandiset_id': 'DANDI:000025/draft', 'field': 'variables_measured', 'text_content': 'variable measured: VoltageClampStimulusSeries'}\n",
      "{'dandiset_id': 'DANDI:000025/draft', 'field': 'variables_measured', 'text_content': 'variable measured: CurrentClampSeries'}\n",
      "{'dandiset_id': 'DANDI:000025/draft', 'field': 'species', 'text_content': 'species: Rattus norvegicus - Norway rat'}\n",
      "{'dandiset_id': 'DANDI:000027/0.210831.2033', 'field': 'title', 'text_content': 'title: Test dataset for testing dandi-cli.'}\n",
      "{'dandiset_id': 'DANDI:000027/0.210831.2033', 'field': 'description', 'text_content': 'description: Should be ignored by regular mortals.\\n\\nATM contains only a few files from http://github.com/dandi-datasets/nwb_test_data which more or less appropriate (do not lack critical metadata) for testing'}\n",
      "{'dandiset_id': 'DANDI:000027/0.210831.2033', 'field': 'species', 'text_content': 'species: Brown rat'}\n",
      "{'dandiset_id': 'DANDI:000029/0.230317.1553', 'field': 'title', 'text_content': 'title: Test dataset for development purposes'}\n",
      "{'dandiset_id': 'DANDI:000029/0.230317.1553', 'field': 'description', 'text_content': 'description: Should be ignored by regular mortals, and not relied upon being static or ever correct.\\nДолжно быть введено на Английском, но почему бы нам не проверить всю эту кухню \\nΔЙקم๗あ\\nabcdefghi'}\n",
      "{'dandiset_id': 'DANDI:000029/0.230317.1553', 'field': 'approaches', 'text_content': 'approach: electrophysiological approach'}\n",
      "{'dandiset_id': 'DANDI:000029/0.230317.1553', 'field': 'approaches', 'text_content': 'approach: behavioral approach'}\n",
      "{'dandiset_id': 'DANDI:000029/0.230317.1553', 'field': 'measurement_techniques', 'text_content': 'measurement technique: analytical technique'}\n",
      "{'dandiset_id': 'DANDI:000029/0.230317.1553', 'field': 'measurement_techniques', 'text_content': 'measurement technique: surgical technique'}\n",
      "{'dandiset_id': 'DANDI:000029/0.230317.1553', 'field': 'measurement_techniques', 'text_content': 'measurement technique: spike sorting technique'}\n",
      "{'dandiset_id': 'DANDI:000029/0.230317.1553', 'field': 'measurement_techniques', 'text_content': 'measurement technique: behavioral technique'}\n",
      "{'dandiset_id': 'DANDI:000029/0.230317.1553', 'field': 'variables_measured', 'text_content': 'variable measured: ProcessingModule'}\n",
      "{'dandiset_id': 'DANDI:000029/0.230317.1553', 'field': 'variables_measured', 'text_content': 'variable measured: ElectrodeGroup'}\n",
      "{'dandiset_id': 'DANDI:000029/0.230317.1553', 'field': 'variables_measured', 'text_content': 'variable measured: BehavioralEvents'}\n",
      "{'dandiset_id': 'DANDI:000029/0.230317.1553', 'field': 'variables_measured', 'text_content': 'variable measured: Units'}\n",
      "{'dandiset_id': 'DANDI:000029/0.230317.1553', 'field': 'species', 'text_content': 'species: Macaca mulatta - Rhesus monkey'}\n",
      "{'dandiset_id': 'DANDI:000029/0.230317.1553', 'field': 'species', 'text_content': 'species: Mus musculus - House mouse'}\n",
      "{'dandiset_id': 'DANDI:000029/0.230317.1553', 'field': 'species', 'text_content': 'species: Rattus norvegicus - Norway rat'}\n",
      "{'dandiset_id': 'DANDI:000010/0.220126.1905', 'field': 'title', 'text_content': 'title: A motor cortex circuit for motor planning and movement'}\n",
      "{'dandiset_id': 'DANDI:000010/0.220126.1905', 'field': 'description', 'text_content': 'description: Data from \"A motor cortex circuit for motor planning and movement\" Li et al. Nature 2015'}\n",
      "{'dandiset_id': 'DANDI:000010/0.220126.1905', 'field': 'approaches', 'text_content': 'approach: electrophysiological approach'}\n",
      "{'dandiset_id': 'DANDI:000010/0.220126.1905', 'field': 'approaches', 'text_content': 'approach: behavioral approach'}\n",
      "{'dandiset_id': 'DANDI:000010/0.220126.1905', 'field': 'approaches', 'text_content': 'approach: microscopy approach; cell population imaging'}\n",
      "{'dandiset_id': 'DANDI:000010/0.220126.1905', 'field': 'measurement_techniques', 'text_content': 'measurement technique: surgical technique'}\n",
      "{'dandiset_id': 'DANDI:000010/0.220126.1905', 'field': 'measurement_techniques', 'text_content': 'measurement technique: behavioral technique'}\n",
      "{'dandiset_id': 'DANDI:000010/0.220126.1905', 'field': 'measurement_techniques', 'text_content': 'measurement technique: spike sorting technique'}\n",
      "{'dandiset_id': 'DANDI:000010/0.220126.1905', 'field': 'variables_measured', 'text_content': 'variable measured: BehavioralTimeSeries'}\n",
      "{'dandiset_id': 'DANDI:000010/0.220126.1905', 'field': 'variables_measured', 'text_content': 'variable measured: Units'}\n",
      "{'dandiset_id': 'DANDI:000010/0.220126.1905', 'field': 'variables_measured', 'text_content': 'variable measured: ElectrodeGroup'}\n",
      "{'dandiset_id': 'DANDI:000010/0.220126.1905', 'field': 'variables_measured', 'text_content': 'variable measured: BehavioralEvents'}\n",
      "{'dandiset_id': 'DANDI:000010/0.220126.1905', 'field': 'variables_measured', 'text_content': 'variable measured: PlaneSegmentation'}\n",
      "{'dandiset_id': 'DANDI:000010/0.220126.1905', 'field': 'species', 'text_content': 'species: House mouse'}\n",
      "{'dandiset_id': 'DANDI:000006/0.220126.1855', 'field': 'title', 'text_content': 'title: Mouse anterior lateral motor cortex (ALM) in delay response task'}\n",
      "{'dandiset_id': 'DANDI:000006/0.220126.1855', 'field': 'description', 'text_content': 'description: Extracellular electrophysiology recordings performed on mouse anterior lateral motor cortex (ALM) in delay response task. Neural activity from two neuron populations, pyramidal track upper and lower, were characterized, in relation to movement execution. Some files, as originally (re)distributed from e.g. http://datasets.datalad.org/?dir=/labs/svoboda/Economo_2018 were found to be broken and would not be able available among reorganized files under sub-* directories.'}\n",
      "{'dandiset_id': 'DANDI:000006/0.220126.1855', 'field': 'approaches', 'text_content': 'approach: electrophysiological approach'}\n",
      "{'dandiset_id': 'DANDI:000006/0.220126.1855', 'field': 'approaches', 'text_content': 'approach: behavioral approach'}\n",
      "{'dandiset_id': 'DANDI:000006/0.220126.1855', 'field': 'measurement_techniques', 'text_content': 'measurement technique: behavioral technique'}\n",
      "{'dandiset_id': 'DANDI:000006/0.220126.1855', 'field': 'measurement_techniques', 'text_content': 'measurement technique: spike sorting technique'}\n",
      "{'dandiset_id': 'DANDI:000006/0.220126.1855', 'field': 'measurement_techniques', 'text_content': 'measurement technique: surgical technique'}\n",
      "{'dandiset_id': 'DANDI:000006/0.220126.1855', 'field': 'variables_measured', 'text_content': 'variable measured: Units'}\n",
      "{'dandiset_id': 'DANDI:000006/0.220126.1855', 'field': 'variables_measured', 'text_content': 'variable measured: ElectrodeGroup'}\n",
      "{'dandiset_id': 'DANDI:000006/0.220126.1855', 'field': 'variables_measured', 'text_content': 'variable measured: BehavioralEvents'}\n",
      "{'dandiset_id': 'DANDI:000006/0.220126.1855', 'field': 'species', 'text_content': 'species: House mouse'}\n",
      "{'dandiset_id': 'DANDI:000009/0.220126.1903', 'field': 'title', 'text_content': 'title: Maintenance of persistent activity in a frontal thalamocortical loop'}\n",
      "{'dandiset_id': 'DANDI:000009/0.220126.1903', 'field': 'description', 'text_content': 'description: We recorded spikes from the ALM and thalamus during tactile discrimination  with a delayed directional response. Here we show that, similar to ALM  neurons, thalamic neurons exhibited selective persistent delay activity  that predicted movement direction. Unilateral photoinhibition of delay  activity in the ALM or thalamus produced contralesional neglect.  Photoinhibition of the thalamus caused a short-latency and near-complete  collapse of ALM activity. Similarly, photoinhibition of the ALM diminished  thalamic activity. Our results show that the thalamus is a circuit hub in  motor preparation and suggest that persistent activity requires reciprocal  excitation across multiple brain areas.'}\n",
      "{'dandiset_id': 'DANDI:000009/0.220126.1903', 'field': 'approaches', 'text_content': 'approach: electrophysiological approach'}\n",
      "{'dandiset_id': 'DANDI:000009/0.220126.1903', 'field': 'approaches', 'text_content': 'approach: behavioral approach'}\n",
      "{'dandiset_id': 'DANDI:000009/0.220126.1903', 'field': 'approaches', 'text_content': 'approach: optogenetic approach'}\n",
      "{'dandiset_id': 'DANDI:000009/0.220126.1903', 'field': 'measurement_techniques', 'text_content': 'measurement technique: surgical technique'}\n",
      "{'dandiset_id': 'DANDI:000009/0.220126.1903', 'field': 'measurement_techniques', 'text_content': 'measurement technique: spike sorting technique'}\n",
      "{'dandiset_id': 'DANDI:000009/0.220126.1903', 'field': 'measurement_techniques', 'text_content': 'measurement technique: current clamp technique'}\n",
      "{'dandiset_id': 'DANDI:000009/0.220126.1903', 'field': 'measurement_techniques', 'text_content': 'measurement technique: behavioral technique'}\n",
      "{'dandiset_id': 'DANDI:000009/0.220126.1903', 'field': 'measurement_techniques', 'text_content': 'measurement technique: analytical technique'}\n",
      "{'dandiset_id': 'DANDI:000009/0.220126.1903', 'field': 'variables_measured', 'text_content': 'variable measured: Units'}\n",
      "{'dandiset_id': 'DANDI:000009/0.220126.1903', 'field': 'variables_measured', 'text_content': 'variable measured: ElectrodeGroup'}\n",
      "{'dandiset_id': 'DANDI:000009/0.220126.1903', 'field': 'variables_measured', 'text_content': 'variable measured: ProcessingModule'}\n",
      "{'dandiset_id': 'DANDI:000009/0.220126.1903', 'field': 'variables_measured', 'text_content': 'variable measured: BehavioralTimeSeries'}\n",
      "{'dandiset_id': 'DANDI:000009/0.220126.1903', 'field': 'variables_measured', 'text_content': 'variable measured: CurrentClampStimulusSeries'}\n",
      "{'dandiset_id': 'DANDI:000009/0.220126.1903', 'field': 'variables_measured', 'text_content': 'variable measured: OptogeneticSeries'}\n",
      "{'dandiset_id': 'DANDI:000009/0.220126.1903', 'field': 'species', 'text_content': 'species: House mouse'}\n",
      "{'dandiset_id': 'DANDI:000012/draft', 'field': 'title', 'text_content': 'title: Kriegstein2020'}\n",
      "{'dandiset_id': 'DANDI:000012/draft', 'field': 'description', 'text_content': 'description: Data from the Kriegstein Lab as part of the BICCN'}\n",
      "{'dandiset_id': 'DANDI:000012/draft', 'field': 'approaches', 'text_content': 'approach: electrophysiological approach'}\n",
      "{'dandiset_id': 'DANDI:000012/draft', 'field': 'measurement_techniques', 'text_content': 'measurement technique: voltage clamp technique'}\n",
      "{'dandiset_id': 'DANDI:000012/draft', 'field': 'variables_measured', 'text_content': 'variable measured: VoltageClampStimulusSeries'}\n",
      "{'dandiset_id': 'DANDI:000012/draft', 'field': 'variables_measured', 'text_content': 'variable measured: VoltageClampSeries'}\n",
      "{'dandiset_id': 'DANDI:000012/draft', 'field': 'species', 'text_content': 'species: Human'}\n"
     ]
    }
   ],
   "source": [
    "for e in emb:\n",
    "    print(e[\"payload\"]) "
   ]
  },
  {
   "cell_type": "code",
   "execution_count": 12,
   "id": "83a3f295-f5ab-457d-94bb-1d58bb8850dc",
   "metadata": {},
   "outputs": [],
   "source": [
    "# Or load them from a file, if already previously produced\n",
    "with open(\"qdrant_points.json\", \"r\") as file:\n",
    "    emb = json.load(file)"
   ]
  },
  {
   "cell_type": "code",
   "execution_count": 13,
   "id": "8b839cda-0890-470b-b531-c7209740e388",
   "metadata": {},
   "outputs": [
    {
     "name": "stdout",
     "output_type": "stream",
     "text": [
      "Produced 1605 embedding points for 156 dandisets\n"
     ]
    }
   ],
   "source": [
    "print(f\"Produced {len(emb)} embedding points for {len(all_metadata_formatted)} dandisets\")"
   ]
  },
  {
   "cell_type": "code",
   "execution_count": 14,
   "id": "5274cd41-837b-4588-aae4-73f50c50b6bb",
   "metadata": {
    "tags": []
   },
   "outputs": [],
   "source": [
    "# Create Qdrant collection\n",
    "create_collection(collection_name=\"dandi_collection\")"
   ]
  },
  {
   "cell_type": "code",
   "execution_count": 15,
   "id": "addc1463-fb5c-4008-be35-a15b83e178ce",
   "metadata": {
    "tags": []
   },
   "outputs": [
    {
     "name": "stdout",
     "output_type": "stream",
     "text": [
      "All points added to collection dandi_collection\n"
     ]
    }
   ],
   "source": [
    "# Populate collection with points\n",
    "add_points_to_collection(embeddings_objects=emb)"
   ]
  },
  {
   "cell_type": "code",
   "execution_count": 16,
   "id": "26f08d74-218c-4a9c-ac82-e96612386d68",
   "metadata": {},
   "outputs": [
    {
     "name": "stdout",
     "output_type": "stream",
     "text": [
      "Inserted 1605 points to Qdrant collection\n"
     ]
    }
   ],
   "source": [
    "info = get_collection_info(\"dandi_collection\")\n",
    "print(f\"Inserted {info['points_count']} points to Qdrant collection\")"
   ]
  },
  {
   "cell_type": "markdown",
   "id": "f9021e66-2792-4741-82a5-11396221a51b",
   "metadata": {
    "tags": []
   },
   "source": [
    "# Vectorize user questions\n",
    "\n",
    "At this step, we handle users input, with the goal of finding the most relevant dandisets for their questions. \n",
    "\n",
    "We test two vectorization options:\n",
    "- vectorize the entire question\n",
    "- extract relevant keywords from user's questions, vectorize these keywords\n",
    "\n",
    "Then perform a similarity search against our vector database, to gather the most semantically similar points to the user's question.\n",
    "\n",
    "Finally, we include the most semantically similar results and the user's input into a prompt which instructs the LLM to further refine the answer to the user."
   ]
  },
  {
   "cell_type": "code",
   "execution_count": 17,
   "id": "2998d2da-9276-492e-8cc2-704a851017ab",
   "metadata": {},
   "outputs": [],
   "source": [
    "from utils.openai import (\n",
    "    keywords_extraction, \n",
    "    prepare_keywords_for_semantic_search, \n",
    "    add_ordered_similarity_results_to_prompt, \n",
    "    get_llm_chat_answer\n",
    ")\n",
    "from utils.qdrant import query_all_keywords, query_from_user_input\n",
    "from utils.pipeline import prepare_prompt"
   ]
  },
  {
   "cell_type": "code",
   "execution_count": 18,
   "id": "5f114939-04fe-4d97-b7f5-b78e918176c9",
   "metadata": {
    "tags": []
   },
   "outputs": [],
   "source": [
    "# Vectorize user's input and query similar Qdrant points\n",
    "user_input = \"I am interested in the tuning properties of glial cells. Are there any good dandisets for studying that?\"\n",
    "\n",
    "ordered_similarity_results = query_from_user_input(text=user_input, top_k=15)"
   ]
  },
  {
   "cell_type": "code",
   "execution_count": 19,
   "id": "7271e3d2-2002-4ea9-aa9e-03ffffcf482f",
   "metadata": {
    "collapsed": true,
    "jupyter": {
     "outputs_hidden": true
    },
    "tags": []
   },
   "outputs": [
    {
     "name": "stdout",
     "output_type": "stream",
     "text": [
      "Given the user input and the list of most reference dandisets, propose which dandisets the user might be interested in using.\n",
      "Explain your decision based on the information of the reference dandisets.\n",
      "Suggest only the dandisets which you consider to be most relevant. There can be multiple relevant dandisets.\n",
      "Structure your answer as a numbered list, with one suggestion per item.\n",
      "Always start your answers always with: \"The most relevant dandisets for your question are:\" \n",
      "Unless you consider there are no relevant dandisets, in which case only reply: \"There are no relevant dandisets for your question\"\n",
      "---\n",
      "User input: I am interested in the tuning properties of glial cells. Are there any good dandisets for studying that?\n",
      "---\n",
      "Reference dandisets:\n",
      "\n",
      "DANDISET:000049/draft\n",
      "title: Allen Institute – TF x SF tuning in mouse visual cortex with calcium imaging\n",
      "description: A two photon calcium imaging dataset from Allen Institute measuring responses to full-field drifting gratings (approx. 120x90 degrees of visual space) moving in 4 different directions, at 5 spatial frequencies (0.02, 0.04, 0.08, 0.16, 0.32 cpd), and 5 temporal frequencies (0.5, 1, 2, 4, 8 Hz). The ratio of TF/SF is speed (deg/sec) and the extent to which visual neurons exhibit speed tuning has been shown to vary across some cortical areas (Andermann et al. 2011).\n",
      "Mouse Cre lines expressing GCaMPf were imaged to record responses of pyramidal neurons across cortical layers (Cux2: layer 2/3; Rorb: layer 4; Rbp4: layer 5; Ntsr1: layer 6) as well as somatostatin inhibitory interneurons (Sst). All Cre lines were imaged in VISp, and some (Cux2 and Sst) were also imaged in VISl, VISal, VISpm, VISam, and VISrl. All experimental sessions took place on the same data collection pipeline as the Allen Brain Observatory (see de Vries, Lecoq, Buice et al. 2020) and have the same visual stimulus monitor calibration and positioning, two photon imaging systems and image processing pipeline, and running wheel to track locomotion. Data are subject to Allen Institute Terms of Use policy, available at: http://www.alleninstitute.org/legal/terms-use/\n",
      "approach: electrophysiological approach, approach: microscopy approach; cell population imaging, approach: behavioral approach\n",
      "measurement technique: spike sorting technique, measurement technique: two-photon microscopy technique, measurement technique: behavioral technique\n",
      "variable measured: TwoPhotonSeries, variable measured: Units, variable measured: PlaneSegmentation, variable measured: BehavioralTimeSeries\n",
      "species: House mouse\n",
      "relevance score: 1.5955323\n",
      "\n",
      "DANDISET:000295/draft\n",
      "title: Electrophysiological properties of adult mouse spinal cord neurons - 22Q2_Ephys_DANDI\n",
      "description: Whole-cell patch clamp recording of specific cell types in the adult mouse spinal cord. Neurons are either input defined, output defined or expressing specific molecular markers.\n",
      "approach: electrophysiological approach\n",
      "measurement technique: current clamp technique\n",
      "variable measured: CurrentClampSeries, variable measured: CurrentClampStimulusSeries\n",
      "species: Mus musculus - House mouse\n",
      "relevance score: 0.8148048\n",
      "\n",
      "DANDISET:000008/draft\n",
      "title: Phenotypic variation within and across transcriptomic cell types in mouse motor cortex\n",
      "description: We used Patch-seq to combine patch-clamp recording, biocytin staining, and single-cell RNA sequencing of over 1300 neurons in adult mouse motor cortex, providing a comprehensive morpho-electric annotation of almost all transcriptomically defined neural cell types. Contained in this dandiset are the intracellular electrophysiological recordings. See Dandiset #35 for an additional dataset, recorded under the physiological temperature. \n",
      "approach: electrophysiological approach\n",
      "measurement technique: current clamp technique\n",
      "variable measured: CurrentClampStimulusSeries, variable measured: CurrentClampSeries\n",
      "species: Mus musculus - House mouse\n",
      "relevance score: 0.81469464\n",
      "\n",
      "DANDISET:000245/draft\n",
      "title: Electrophysiological properties of adult mouse spinal cord neurons - 22Q1_Ephys_DANDI\n",
      "description: Whole-cell patch clamp recording of specific cell types in the adult mouse spinal cord. Neurons are either input defined, output defined or expressing specific molecular markers. \n",
      "approach: electrophysiological approach\n",
      "measurement technique: current clamp technique\n",
      "variable measured: CurrentClampSeries, variable measured: CurrentClampStimulusSeries\n",
      "species: Mus musculus - House mouse\n",
      "relevance score: 0.81466526\n",
      "\n",
      "DANDISET:000481/draft\n",
      "title: State-dependent processing in visual cortex\n",
      "description: Extracellular recordings from rabbit visual cortex neurons. Orientation testing with drifting grating stimuli. Hippocampal EEG for the state scoring procedure. \n",
      "approach: electrophysiological approach\n",
      "measurement technique: signal filtering technique, measurement technique: analytical technique, measurement technique: surgical technique, measurement technique: spike sorting technique, measurement technique: multi electrode extracellular electrophysiology recording technique\n",
      "variable measured: ElectrodeGroup, variable measured: Units, variable measured: ElectricalSeries, variable measured: LFP, variable measured: ProcessingModule\n",
      "species: Oryctolagus cuniculus - Rabbits\n",
      "relevance score: 0.80286956\n",
      "\n",
      "DANDISET:000168/draft\n",
      "title: Simultaneous loose seal cell-attached recordings  and two-photon imaging of GCaMP8 expressing mouse V1 neurons with drifting gratings visual stimuli\n",
      "description: We tested the jGCaMP8 sensors in L2/3 pyramidal neurons of mouse primary visual cortex. We made a craniotomy over V1 and infected neurons with adeno-associated virus (AAV2/1-hSynapsin-1) encoding jGCaMP8 variants (s/m/f), jGCaMP7f, or XCaMP-Gf. 18-80 days after the virus injection, the mouse was anesthetized, and we surgically removed the cranial window and performed durotomy. The craniotomy was filled with 10-15 μL of 1.5% agarose, and a D-shaped coverslip was secured on top to suppress brain motion and leave access to the brain on the lateral side of the craniotomy. Then mice were lightly anesthetized and mounted under a custom two-photon microscope. Full-field, high-contrast drifting gratings were presented in each of eight directions to the contralateral eye. Two-photon imaging (122 Hz) was performed of L2/3 somata and neuropil combined with loose-seal, cell-attached electrophysiological recording of a single neuron in the field of view.\n",
      "approach: microscopy approach; cell population imaging, approach: electrophysiological approach\n",
      "measurement technique: two-photon microscopy technique, measurement technique: current clamp technique, measurement technique: analytical technique, measurement technique: voltage clamp technique\n",
      "variable measured: PlaneSegmentation, variable measured: CurrentClampStimulusSeries, variable measured: CurrentClampSeries, variable measured: TwoPhotonSeries, variable measured: ProcessingModule, variable measured: VoltageClampStimulusSeries, variable measured: VoltageClampSeries\n",
      "species: Mus musculus - House mouse\n",
      "relevance score: 0.8011095\n",
      "\n",
      "DANDISET:000039/draft\n",
      "title: Allen Institute – Contrast tuning in mouse visual cortex with calcium imaging\n",
      "description: A two photon calcium imaging dataset from Allen Institute measuring responses to full-field drifting gratings (approx. 120x90 degrees of visual space) of 8 directions and 6 contrasts (5%, 10%, 20%, 40%, 60%, 80%). Mouse Cre lines expressing GCaMP6f were imaged to record responses of   pyramidal neurons across cortical layers (Cux2: layer 2/3; Rorb: layer 4; Rbp4: layer 5; Ntsr1: layer 6) as well as inhibitory interneurons (Vip and Sst). All experimental sessions took place on the same data collection pipeline as the Allen Brain Observatory (see http://observatory.brain-map.org/visualcoding) and have the same visual stimulus monitor calibration and positioning, two photon imaging systems and image processing pipeline, and running wheel to track locomotion.\n",
      "\n",
      " Data are subject to Allen Institute Terms of Use policy, available at: http://www.alleninstitute.org/legal/terms-use/\n",
      "approach: electrophysiological approach, approach: microscopy approach; cell population imaging, approach: behavioral approach\n",
      "measurement technique: two-photon microscopy technique, measurement technique: spike sorting technique, measurement technique: behavioral technique\n",
      "variable measured: Units, variable measured: PlaneSegmentation, variable measured: TwoPhotonSeries, variable measured: BehavioralTimeSeries\n",
      "species: House mouse\n",
      "relevance score: 0.8007048\n",
      "\n",
      "DANDISET:000165/draft\n",
      "title: Aery Jones et al (2021) Dentate Gyrus and CA3 GABAergic Interneurons Bidirectionally Modulate Signatures of Internal and External Drive to CA1\n",
      "description: The experiment consisted of three cohorts of PVCre, SSTCre, and PVCre/SSTCre mice injected with either AAV5-hSyn-DIO-hM4D(Gi)-mCherry (hM4D) or AAV5-hSyn-DIO-mCherry (empty vector) in DG and CA3, then injected with vehicle or CNO prior to recordings. Recordings from all layers of CA1, CA3, and DG were taken during home cage rest and linear track movement. Data are described in Aery Jones et al, 2021, bioRxiv: \"Dentate Gyrus and CA3 GABAergic Interneurons Bidirectionally Modulate Signatures of Internal and External Drive to CA1\". For more information about this data, please contact Emily Aery Jones, Yadong Huang, or Loren Frank.\n",
      "approach: electrophysiological approach, approach: behavioral approach\n",
      "measurement technique: spike sorting technique, measurement technique: signal filtering technique, measurement technique: behavioral technique, measurement technique: multi electrode extracellular electrophysiology recording technique, measurement technique: surgical technique\n",
      "variable measured: Units, variable measured: Position, variable measured: LFP, variable measured: SpatialSeries, variable measured: ElectricalSeries, variable measured: ElectrodeGroup\n",
      "species: House mouse\n",
      "relevance score: 0.8000885\n",
      "\n",
      "DANDISET:000003/draft\n",
      "title: Physiological Properties and Behavioral Correlates of Hippocampal Granule Cells and Mossy Cells\n",
      "description: Data from \"Physiological Properties and Behavioral Correlates of Hippocampal Granule Cells and Mossy Cells\" Senzai, Buzsaki, Neuron 2017. Electrophysiology recordings of hippocampus during theta maze exploration.\n",
      "approach: electrophysiological approach, approach: behavioral approach\n",
      "measurement technique: signal filtering technique, measurement technique: fourier analysis technique, measurement technique: spike sorting technique, measurement technique: behavioral technique, measurement technique: multi electrode extracellular electrophysiology recording technique\n",
      "variable measured: DecompositionSeries, variable measured: LFP, variable measured: Units, variable measured: Position, variable measured: ElectricalSeries\n",
      "species: House mouse\n",
      "relevance score: 0.79904187\n",
      "\n",
      "DANDISET:000020/draft\n",
      "title: Patch-seq recordings from mouse visual cortex\n",
      "description: Whole-cell Patch-seq recordings from neurons of the mouse visual cortex from the Allen Institute for Brain Science, released in June 2020. The majority of cells in this dataset are GABAergic interneurons, but there are also a small number of glutamatergic neurons from layer 2/3 of the mouse visual cortex.\n",
      "\n",
      "measurement technique: analytical technique\n",
      "variable measured: ProcessingModule\n",
      "species: House mouse\n",
      "relevance score: 0.7985958\n",
      "\n",
      "DANDISET:000115/draft\n",
      "title: Gillespie et al (2021) Hippocampal replay reflects specific past experiences rather than a plan for subsequent choice\n",
      "description: This dataset includes the electrophysiological (dorsal CA1 tetrodes) and behavioral (port triggers, reward delivery, and position tracking) data from Gillespie et al, Neuron 2021: \"Hippocampal replay reflects specific past experiences rather than a plan for subsequent choice\". For more information about this data, please contact Anna Gillespie or Loren Frank. \n",
      "PLEASE NOTE: We have updated the NWB files to correct a bug in the NWB file generation that caused mislabeling of electrodes. This correction does not impact the results of the manuscript in any way. Please use the newer version of the files (3/21/22) rather than the originals! \n",
      "approach: electrophysiological approach, approach: behavioral approach\n",
      "measurement technique: behavioral technique, measurement technique: multi electrode extracellular electrophysiology recording technique, measurement technique: analytical technique\n",
      "variable measured: ElectricalSeries, variable measured: Position, variable measured: SpatialSeries, variable measured: BehavioralEvents, variable measured: ProcessingModule\n",
      "species: Rat; norway rat; rats; brown rat, species: Rattus norvegicus - Norway rat\n",
      "relevance score: 0.7969072\n",
      "\n",
      "DANDISET:000568/draft\n",
      "title: Probing subthreshold dynamics of hippocampal neurons by pulsed optogenetics\n",
      "description: Understanding how excitatory (E) and inhibitory (I) inputs are integrated by neurons requires monitoring their subthreshold behavior. We probed the subthreshold dynamics using optogenetic depolarizing pulses in hippocampal neuronal assemblies in freely moving mice. Excitability decreased during sharp- wave ripples coupled with increased I. In contrast to this “negative gain,” optogenetic probing showed increased within-field excitability in place cells by weakening I and unmasked stable place fields in initially non–place cells. Neuronal assemblies active during sharp-wave ripples in the home cage predicted spatial overlap and sequences of place fields of both place cells and unmasked preexisting place fields of non–place cells during track running. Thus, indirect probing of subthreshold dynamics in neuronal populations permits the disclosing of preexisting assemblies and modes of neuronal operations.\n",
      "approach: behavioral approach, approach: electrophysiological approach, approach: optogenetic approach\n",
      "measurement technique: spike sorting technique, measurement technique: behavioral technique, measurement technique: signal filtering technique, measurement technique: analytical technique, measurement technique: surgical technique, measurement technique: multi electrode extracellular electrophysiology recording technique\n",
      "variable measured: LFP, variable measured: Units, variable measured: SpatialSeries, variable measured: ElectrodeGroup, variable measured: ElectricalSeries, variable measured: Position, variable measured: ProcessingModule, variable measured: OptogeneticSeries\n",
      "species: Mus musculus - House mouse\n",
      "relevance score: 0.796816\n",
      "\n",
      "DANDISET:000251/draft\n",
      "title: A Unified Framework for Dopamine Signals across Timescales\n",
      "description: This dandiset contains the data associated with \"A Unified Framework for Dopamine Signals across Timescales\" (Kim et al. 2020). It is comprised of fiber photometry data, single-unit recordings, stimulus variables, and behavioral measurements across a wide variety of experimental manipulations. \n",
      "approach: behavioral approach, approach: electrophysiological approach\n",
      "measurement technique: analytical technique, measurement technique: behavioral technique, measurement technique: spike sorting technique\n",
      "variable measured: SpatialSeries, variable measured: ProcessingModule, variable measured: Units\n",
      "species: Mus musculus - House mouse\n",
      "relevance score: 0.7961541\n",
      "\n",
      "DANDISET:000410/draft\n",
      "title: Joshi et al (2023) Dynamic Synchronization between Hippocampal Spatial Representations and the Stepping Rhythm\n",
      "description: This dateset includes electrophysiological data from from dorsal CA1 of rats running on a linear or w-shaped track. Please contact Abhilasha Joshi or Loren Frank for more information about this data. \n",
      "approach: behavioral approach, approach: electrophysiological approach\n",
      "measurement technique: behavioral technique, measurement technique: analytical technique, measurement technique: multi electrode extracellular electrophysiology recording technique\n",
      "variable measured: SpatialSeries, variable measured: ProcessingModule, variable measured: Position, variable measured: BehavioralEvents, variable measured: ElectricalSeries\n",
      "species: Rattus norvegicus - Norway rat\n",
      "relevance score: 0.79561114\n",
      "\n",
      "---\n",
      "Begin:\n"
     ]
    }
   ],
   "source": [
    "dandisets_text = add_ordered_similarity_results_to_prompt(similarity_results=ordered_similarity_results)\n",
    "prompt = prepare_prompt(user_input=user_input, dandisets_text=dandisets_text, model=\"gpt-3.5-turbo-16k\")\n",
    "print(prompt)"
   ]
  },
  {
   "cell_type": "code",
   "execution_count": 20,
   "id": "04043bb7-f179-4baa-854f-daacd50bc47b",
   "metadata": {},
   "outputs": [
    {
     "name": "stdout",
     "output_type": "stream",
     "text": [
      "The most relevant dandisets for your question are:\n",
      "\n",
      "1. DANDISET:000049/draft (Allen Institute – TF x SF tuning in mouse visual cortex with calcium imaging): This dandiset includes a two-photon calcium imaging dataset from Allen Institute, measuring responses to full-field drifting gratings in mouse visual cortex. While the focus is on visual cortex neurons, it provides valuable information about stimulus response properties that can be applied to glial cells as well.\n",
      "\n",
      "2. DANDISET:000168/draft (Simultaneous loose seal cell-attached recordings and two-photon imaging of GCaMP8 expressing mouse V1 neurons with drifting gratings visual stimuli): This dandiset combines two-photon imaging with electrophysiological recordings of GCaMP8 expressing neurons in mouse primary visual cortex. While the primary focus is on pyramidal neurons, the dataset can also provide insights into the tuning properties of glial cells in response to visual stimuli.\n",
      "\n",
      "3. DANDISET:000003/draft (Physiological Properties and Behavioral Correlates of Hippocampal Granule Cells and Mossy Cells): Although this dandiset primarily focuses on hippocampal granule cells and mossy cells, it includes electrophysiology recordings during theta maze exploration. While not directly related to glial cells, studying the tuning properties of neurons in the hippocampus can provide insights into their interactions with glial cells during spatial processing.\n",
      "\n",
      "These dandisets offer valuable information about the tuning properties of neurons in response to different stimuli, which can be applied to the study of glial cells' tuning properties.\n"
     ]
    }
   ],
   "source": [
    "answer = get_llm_chat_answer(prompt=prompt, model=\"gpt-3.5-turbo-16k\")\n",
    "print(answer)"
   ]
  },
  {
   "cell_type": "code",
   "execution_count": null,
   "id": "7487d5c9-c483-45a2-ae09-bdb7f8f7469b",
   "metadata": {},
   "outputs": [],
   "source": []
  },
  {
   "cell_type": "code",
   "execution_count": 21,
   "id": "03596dc9-b859-4cbf-a9cd-c68ab78892df",
   "metadata": {},
   "outputs": [
    {
     "data": {
      "text/plain": [
       "['glial cells']"
      ]
     },
     "execution_count": 21,
     "metadata": {},
     "output_type": "execute_result"
    }
   ],
   "source": [
    "# A second approach would be to first extract neuroscience-related keywords from user's questions\n",
    "keywords = keywords_extraction(user_input=user_input)\n",
    "\n",
    "# Join the results in a list of strings, before semantic search\n",
    "keywords_2 = prepare_keywords_for_semantic_search(keywords)\n",
    "keywords_2"
   ]
  },
  {
   "cell_type": "code",
   "execution_count": 22,
   "id": "cfba5ff7-f792-4f3a-8eed-7b4129ebc301",
   "metadata": {},
   "outputs": [
    {
     "data": {
      "text/plain": [
       "[('DANDI:000350/0.221219.1506', 1.60849445),\n",
       " ('DANDI:000003/0.230629.1955', 1.60160926),\n",
       " ('DANDI:000168/draft', 1.58226733),\n",
       " ('DANDI:000020/0.210913.1639', 0.81621814),\n",
       " ('DANDI:000245/draft', 0.79532015),\n",
       " ('DANDI:000302/draft', 0.7936288),\n",
       " ('DANDI:000295/draft', 0.78901976),\n",
       " ('DANDI:000165/0.211118.1526', 0.78858197),\n",
       " ('DANDI:000409/draft', 0.78844327),\n",
       " ('DANDI:000008/0.211014.0809', 0.786623),\n",
       " ('DANDI:000292/0.220708.1652', 0.7866051),\n",
       " ('DANDI:000244/draft', 0.7853388)]"
      ]
     },
     "execution_count": 22,
     "metadata": {},
     "output_type": "execute_result"
    }
   ],
   "source": [
    "# Query similar entries for each keyword, accumulate the scores for repeated results\n",
    "ordered_similarity_results = query_all_keywords(keywords_2, top_k=15)\n",
    "ordered_similarity_results"
   ]
  },
  {
   "cell_type": "code",
   "execution_count": 23,
   "id": "f41eef63-b8b2-42b8-96b2-15a2d288da4f",
   "metadata": {
    "collapsed": true,
    "jupyter": {
     "outputs_hidden": true
    },
    "tags": []
   },
   "outputs": [
    {
     "name": "stdout",
     "output_type": "stream",
     "text": [
      "Given the user input and the list of most reference dandisets, propose which dandisets the user might be interested in using.\n",
      "Explain your decision based on the information of the reference dandisets.\n",
      "Suggest only the dandisets which you consider to be most relevant. There can be multiple relevant dandisets.\n",
      "Structure your answer as a numbered list, with one suggestion per item.\n",
      "Always start your answers always with: \"The most relevant dandisets for your question are:\" \n",
      "Unless you consider there are no relevant dandisets, in which case only reply: \"There are no relevant dandisets for your question\"\n",
      "---\n",
      "User input: I am interested in the tuning properties of glial cells. Are there any good dandisets for studying that?\n",
      "---\n",
      "Reference dandisets:\n",
      "\n",
      "DANDISET:000350/draft\n",
      "title: Glia Accumulate Evidence that Actions Are Futile and Suppress Unsuccessful Behavior\n",
      "description: When a behavior repeatedly fails to achieve its goal, animals often give up and become passive, which can be strategic for preserving energy or regrouping between attempts. It is unknown how the brain identifies behavioral failures and mediates this behavioral-state switch. In larval zebrafish swimming in virtual reality, visual feedback can be withheld so that swim attempts fail to trigger expected visual flow. After tens of seconds of such motor futility, animals became passive for similar durations. Whole-brain calcium imaging revealed noradrenergic neurons that responded specifically to failed swim attempts and radial astrocytes whose calcium levels accumulated with increasing numbers of failed attempts. Using cell ablation and optogenetic or chemogenetic activation, we found that noradrenergic neurons progressively activated brainstem radial astrocytes, which then suppressed swimming. Thus, radial astrocytes perform a computation critical for behavior: they accumulate evidence that current actions are ineffective and consequently drive changes in behavioral states.\n",
      "approach: microscopy approach; cell population imaging\n",
      "measurement technique: surgical technique, measurement technique: two-photon microscopy technique, measurement technique: analytical technique\n",
      "variable measured: TwoPhotonSeries, variable measured: OpticalChannel, variable measured: ProcessingModule, variable measured: ImagingPlane, variable measured: PlaneSegmentation\n",
      "species: Danio rerio - Zebra fish\n",
      "relevance score: 1.60849445\n",
      "\n",
      "DANDISET:000003/draft\n",
      "title: Physiological Properties and Behavioral Correlates of Hippocampal Granule Cells and Mossy Cells\n",
      "description: Data from \"Physiological Properties and Behavioral Correlates of Hippocampal Granule Cells and Mossy Cells\" Senzai, Buzsaki, Neuron 2017. Electrophysiology recordings of hippocampus during theta maze exploration.\n",
      "approach: electrophysiological approach, approach: behavioral approach\n",
      "measurement technique: signal filtering technique, measurement technique: fourier analysis technique, measurement technique: spike sorting technique, measurement technique: behavioral technique, measurement technique: multi electrode extracellular electrophysiology recording technique\n",
      "variable measured: DecompositionSeries, variable measured: LFP, variable measured: Units, variable measured: Position, variable measured: ElectricalSeries\n",
      "species: House mouse\n",
      "relevance score: 1.60160926\n",
      "\n",
      "DANDISET:000168/draft\n",
      "title: Simultaneous loose seal cell-attached recordings  and two-photon imaging of GCaMP8 expressing mouse V1 neurons with drifting gratings visual stimuli\n",
      "description: We tested the jGCaMP8 sensors in L2/3 pyramidal neurons of mouse primary visual cortex. We made a craniotomy over V1 and infected neurons with adeno-associated virus (AAV2/1-hSynapsin-1) encoding jGCaMP8 variants (s/m/f), jGCaMP7f, or XCaMP-Gf. 18-80 days after the virus injection, the mouse was anesthetized, and we surgically removed the cranial window and performed durotomy. The craniotomy was filled with 10-15 μL of 1.5% agarose, and a D-shaped coverslip was secured on top to suppress brain motion and leave access to the brain on the lateral side of the craniotomy. Then mice were lightly anesthetized and mounted under a custom two-photon microscope. Full-field, high-contrast drifting gratings were presented in each of eight directions to the contralateral eye. Two-photon imaging (122 Hz) was performed of L2/3 somata and neuropil combined with loose-seal, cell-attached electrophysiological recording of a single neuron in the field of view.\n",
      "approach: microscopy approach; cell population imaging, approach: electrophysiological approach\n",
      "measurement technique: two-photon microscopy technique, measurement technique: current clamp technique, measurement technique: analytical technique, measurement technique: voltage clamp technique\n",
      "variable measured: PlaneSegmentation, variable measured: CurrentClampStimulusSeries, variable measured: CurrentClampSeries, variable measured: TwoPhotonSeries, variable measured: ProcessingModule, variable measured: VoltageClampStimulusSeries, variable measured: VoltageClampSeries\n",
      "species: Mus musculus - House mouse\n",
      "relevance score: 1.58226733\n",
      "\n",
      "DANDISET:000020/draft\n",
      "title: Patch-seq recordings from mouse visual cortex\n",
      "description: Whole-cell Patch-seq recordings from neurons of the mouse visual cortex from the Allen Institute for Brain Science, released in June 2020. The majority of cells in this dataset are GABAergic interneurons, but there are also a small number of glutamatergic neurons from layer 2/3 of the mouse visual cortex.\n",
      "\n",
      "measurement technique: analytical technique\n",
      "variable measured: ProcessingModule\n",
      "species: House mouse\n",
      "relevance score: 0.81621814\n",
      "\n",
      "DANDISET:000245/draft\n",
      "title: Electrophysiological properties of adult mouse spinal cord neurons - 22Q1_Ephys_DANDI\n",
      "description: Whole-cell patch clamp recording of specific cell types in the adult mouse spinal cord. Neurons are either input defined, output defined or expressing specific molecular markers. \n",
      "approach: electrophysiological approach\n",
      "measurement technique: current clamp technique\n",
      "variable measured: CurrentClampSeries, variable measured: CurrentClampStimulusSeries\n",
      "species: Mus musculus - House mouse\n",
      "relevance score: 0.79532015\n",
      "\n",
      "DANDISET:000302/draft\n",
      "title: Habenular neurophysiology\n",
      "description: Habenular neurophysiology data associated with Sylwestrak*, Jo*, Vesuna* et al. Cell (2022).\n",
      "approach: behavioral approach, approach: electrophysiological approach, approach: optogenetic approach\n",
      "measurement technique: spike sorting technique, measurement technique: behavioral technique, measurement technique: analytical technique, measurement technique: surgical technique\n",
      "variable measured: BehavioralEvents, variable measured: ProcessingModule, variable measured: Units, variable measured: ElectrodeGroup, variable measured: OptogeneticSeries\n",
      "species: Mus musculus - House mouse\n",
      "relevance score: 0.7936288\n",
      "\n",
      "DANDISET:000295/draft\n",
      "title: Electrophysiological properties of adult mouse spinal cord neurons - 22Q2_Ephys_DANDI\n",
      "description: Whole-cell patch clamp recording of specific cell types in the adult mouse spinal cord. Neurons are either input defined, output defined or expressing specific molecular markers.\n",
      "approach: electrophysiological approach\n",
      "measurement technique: current clamp technique\n",
      "variable measured: CurrentClampSeries, variable measured: CurrentClampStimulusSeries\n",
      "species: Mus musculus - House mouse\n",
      "relevance score: 0.78901976\n",
      "\n",
      "DANDISET:000165/draft\n",
      "title: Aery Jones et al (2021) Dentate Gyrus and CA3 GABAergic Interneurons Bidirectionally Modulate Signatures of Internal and External Drive to CA1\n",
      "description: The experiment consisted of three cohorts of PVCre, SSTCre, and PVCre/SSTCre mice injected with either AAV5-hSyn-DIO-hM4D(Gi)-mCherry (hM4D) or AAV5-hSyn-DIO-mCherry (empty vector) in DG and CA3, then injected with vehicle or CNO prior to recordings. Recordings from all layers of CA1, CA3, and DG were taken during home cage rest and linear track movement. Data are described in Aery Jones et al, 2021, bioRxiv: \"Dentate Gyrus and CA3 GABAergic Interneurons Bidirectionally Modulate Signatures of Internal and External Drive to CA1\". For more information about this data, please contact Emily Aery Jones, Yadong Huang, or Loren Frank.\n",
      "approach: electrophysiological approach, approach: behavioral approach\n",
      "measurement technique: spike sorting technique, measurement technique: signal filtering technique, measurement technique: behavioral technique, measurement technique: multi electrode extracellular electrophysiology recording technique, measurement technique: surgical technique\n",
      "variable measured: Units, variable measured: Position, variable measured: LFP, variable measured: SpatialSeries, variable measured: ElectricalSeries, variable measured: ElectrodeGroup\n",
      "species: House mouse\n",
      "relevance score: 0.78858197\n",
      "\n",
      "DANDISET:000409/draft\n",
      "title: IBL - Brain Wide Map\n",
      "description: The International Brain lab (IBL) aims to understand the neural basis of decision-making in the mouse by gathering a whole-brain activity map composed of electrophysiological recordings pooled from multiple laboratories. We have systematically recorded from nearly all major brain areas with Neuropixels probes, using a grid system for unbiased sampling and replicating each recording site in at least two laboratories. These data have been used to construct a brain-wide map of activity at single-spike cellular resolution during a decision-making task. In addition to the map, this data set contains other information gathered during the task: sensory stimuli presented to the mouse; mouse decisions and response times; and mouse pose information from video recordings and DeepLabCut analysis.\n",
      "approach: behavioral approach, approach: electrophysiological approach\n",
      "measurement technique: analytical technique, measurement technique: behavioral technique, measurement technique: surgical technique, measurement technique: multi electrode extracellular electrophysiology recording technique, measurement technique: spike sorting technique\n",
      "variable measured: ElectricalSeries, variable measured: ElectrodeGroup, variable measured: CompassDirection, variable measured: Units, variable measured: SpatialSeries, variable measured: PupilTracking, variable measured: ProcessingModule\n",
      "species: Mus musculus - House mouse\n",
      "relevance score: 0.78844327\n",
      "\n",
      "DANDISET:000008/draft\n",
      "title: Phenotypic variation within and across transcriptomic cell types in mouse motor cortex\n",
      "description: We used Patch-seq to combine patch-clamp recording, biocytin staining, and single-cell RNA sequencing of over 1300 neurons in adult mouse motor cortex, providing a comprehensive morpho-electric annotation of almost all transcriptomically defined neural cell types. Contained in this dandiset are the intracellular electrophysiological recordings. See Dandiset #35 for an additional dataset, recorded under the physiological temperature. \n",
      "approach: electrophysiological approach\n",
      "measurement technique: current clamp technique\n",
      "variable measured: CurrentClampStimulusSeries, variable measured: CurrentClampSeries\n",
      "species: Mus musculus - House mouse\n",
      "relevance score: 0.786623\n",
      "\n",
      "DANDISET:000292/draft\n",
      "title: UHN whole-cell patch-clamp excitability recordings from mouse cortical neurons\n",
      "description: Whole-cell patch clamp recordings from acute mouse brain slices of layer 5 cortex.\n",
      "approach: electrophysiological approach\n",
      "measurement technique: current clamp technique, measurement technique: voltage clamp technique\n",
      "variable measured: CurrentClampSeries, variable measured: CurrentClampStimulusSeries, variable measured: VoltageClampStimulusSeries\n",
      "species: Mus musculus - House mouse\n",
      "relevance score: 0.7866051\n",
      "\n",
      "DANDISET:000244/draft\n",
      "title: One photon mesoscale calcium imaging of multiple cell types\n",
      "description: One photon dual wavelength mesoscale calcium imaging of mouse isocortex. Includes data from awake and anesthetized subjects with excitatory neuron sensitive GECIs, and data from awake subjects with GECIs sensitive to three different inhibitory interneuron cell types (PV, SOM and VIP).\n",
      "approach: microscopy approach; cell population imaging\n",
      "measurement technique: two-photon microscopy technique, measurement technique: surgical technique\n",
      "variable measured: ImagingPlane, variable measured: TwoPhotonSeries, variable measured: OpticalChannel\n",
      "species: Mus musculus - House mouse\n",
      "relevance score: 0.7853388\n",
      "\n",
      "---\n",
      "Begin:\n"
     ]
    }
   ],
   "source": [
    "# Prepare a prompt instructing the LLM to suggest the most relevant dandisets based on user's input\n",
    "dandisets_text = add_ordered_similarity_results_to_prompt(similarity_results=ordered_similarity_results)\n",
    "prompt = prepare_prompt(user_input=user_input, dandisets_text=dandisets_text, model=\"gpt-3.5-turbo-16k\")\n",
    "print(prompt)"
   ]
  },
  {
   "cell_type": "code",
   "execution_count": 24,
   "id": "9c2716a2-6cb2-47cf-beee-b4c0bef08258",
   "metadata": {},
   "outputs": [
    {
     "name": "stdout",
     "output_type": "stream",
     "text": [
      "The most relevant dandisets for your question are:\n",
      "\n",
      "1. DANDISET:000350/draft:\n",
      "   - Title: Glia Accumulate Evidence that Actions Are Futile and Suppress Unsuccessful Behavior\n",
      "   - Description: This dandiset investigates the tuning properties of radial astrocytes in larval zebrafish. The study uses whole-brain calcium imaging and microscopy techniques to reveal how astrocytes accumulate evidence of failed motor behaviors. This dataset can provide insights into the tuning properties of glial cells.\n",
      "   - Approach: Microscopy approach; Cell population imaging\n",
      "   - Measurement Technique: Two-photon microscopy technique\n",
      "   - Species: Danio rerio - Zebra fish\n",
      "\n",
      "2. DANDISET:000168/draft:\n",
      "   - Title: Simultaneous loose seal cell-attached recordings and two-photon imaging of GCaMP8 expressing mouse V1 neurons with drifting gratings visual stimuli\n",
      "   - Description: This dandiset focuses on two-photon imaging of mouse visual cortex neurons with drifting gratings visual stimuli. The dataset includes loose-seal, cell-attached electrophysiological recordings along with microscopy techniques. This dataset can provide information on the tuning properties of glial cells in the visual cortex.\n",
      "   - Approach: Microscopy approach; Electrophysiological approach\n",
      "   - Measurement Technique: Two-photon microscopy technique\n",
      "   - Species: Mus musculus - House mouse\n",
      "\n",
      "These dandisets are particularly relevant for studying the tuning properties of glial cells. They involve different techniques, such as whole-brain calcium imaging and two-photon microscopy, and focus on glial cell behavior in different species (zebrafish and house mouse). They provide valuable data for understanding how glial cells accumulate evidence and contribute to changes in behavioral states.\n"
     ]
    }
   ],
   "source": [
    "answer = get_llm_chat_answer(prompt=prompt)\n",
    "print(answer)"
   ]
  },
  {
   "cell_type": "markdown",
   "id": "6dab9ff9-4170-4e3b-b9ce-98a6eb7de929",
   "metadata": {},
   "source": [
    "# Comparison of methods\n",
    "\n",
    "Here we compare the results of both methods for a variety of possible questions."
   ]
  },
  {
   "cell_type": "code",
   "execution_count": 25,
   "id": "4c494d1e-6ee6-47b8-9d97-167ca494b7b8",
   "metadata": {},
   "outputs": [],
   "source": [
    "from utils.pipeline import suggest_relevant_dandisets"
   ]
  },
  {
   "cell_type": "code",
   "execution_count": 26,
   "id": "c0a87f25-da8b-4e7a-b138-34cf498b1029",
   "metadata": {},
   "outputs": [
    {
     "name": "stdout",
     "output_type": "stream",
     "text": [
      "The most relevant dandisets for your question are:\n",
      "\n",
      "1. DANDISET:000055/draft\n",
      "   - Title: AJILE12: Long-term naturalistic human intracranial neural recordings and pose\n",
      "   - Description: This dataset contains synchronized intracranial neural recordings and upper body pose trajectories from 12 human participants engaged in naturalistic movements. It includes a large amount of data recorded over 55 days, including thousands of wrist movement events and annotated behavioral states. The neural recordings are available at a high sampling rate, and pose trajectories are sampled at 30 frames per second. This dataset is ideal for studying natural movement in humans.\n",
      "\n",
      "2. DANDISET:000540/draft\n",
      "   - Title: Dataset for: A change in behavioral state switches the pattern of motor output that underlies rhythmic head and orofacial movements\n",
      "   - Description: This dataset contains multi-modal data recorded from rats performing naturalistic foraging and rearing behaviors in an open arena. It includes videography, respiration, electromyogram, wearable sensor signals, and human annotations. While this dataset is not specific to humans, it provides valuable insights into naturalistic behavior and motor output that can be relevant to studying natural movement in humans.\n",
      "\n",
      "Both of these dandisets provide data on natural movement in different contexts and species. The first dandiset (DANDISET:000055/draft) focuses on human intracranial neural recordings and upper body pose trajectories during naturalistic movements. This dataset offers a large amount of data collected over an extended period, making it suitable for studying natural movement in humans. The second dandiset (DANDISET:000540/draft) provides multi-modal data from rats engaged in naturalistic foraging and rearing behaviors. Although it is not specific to humans, it offers insights into naturalistic motor output and behavior that can be applied to the study of natural movement in humans.\n"
     ]
    }
   ],
   "source": [
    "user_input = \"I want to study natural movement in humans\"\n",
    "\n",
    "suggestions = suggest_relevant_dandisets(user_input=user_input, model=\"gpt-3.5-turbo-16k\", method=1)\n",
    "print(suggestions)"
   ]
  },
  {
   "cell_type": "code",
   "execution_count": 27,
   "id": "8161f960-7026-4ff6-970e-121c77d93b7b",
   "metadata": {},
   "outputs": [
    {
     "name": "stdout",
     "output_type": "stream",
     "text": [
      "The most relevant dandisets for your question are:\n",
      "\n",
      "1. DANDISET:000055/draft - AJILE12: Long-term naturalistic human intracranial neural recordings and pose:\n",
      "   - This dataset includes synchronized intracranial neural recordings and upper body pose trajectories during naturalistic movements in humans. It provides insights into the neural basis of human movement in naturalistic scenarios, allowing for the study of unstructured, spontaneous movements in completely naturalistic settings.\n",
      "\n",
      "2. DANDISET:000019/draft - Human ECoG speaking consonant-vowel syllables:\n",
      "   - This dataset contains high-density electrocorticography (ECoG) recordings from human patients reading aloud consonant-vowel syllables. It enables the investigation of brain activity during natural spoken language production and can provide valuable information about natural movement in humans.\n",
      "\n",
      "3. DANDISET:000143/draft - PPC_Finger: human posterior parietal cortex recordings during attempted finger movements:\n",
      "   - This dataset includes neural activity recordings from the posterior parietal cortex (PPC) of a tetraplegic human participant performing a finger press task through a brain-computer interface (BCI). It allows for the exploration of neural signals associated with attempted finger movements, providing insights into natural movement control in humans.\n",
      "\n",
      "These dandisets cover various aspects of natural movement in humans, including neural activity during naturalistic movements, speech production, and attempted finger movements. They offer valuable resources for studying the neural basis of natural human movement.\n"
     ]
    }
   ],
   "source": [
    "suggestions = suggest_relevant_dandisets(user_input=user_input, model=\"gpt-3.5-turbo-16k\", method=2)\n",
    "print(suggestions)"
   ]
  },
  {
   "cell_type": "code",
   "execution_count": 28,
   "id": "8d4d4bdb-41a7-4b05-a7e9-59fd77ff4640",
   "metadata": {},
   "outputs": [
    {
     "name": "stdout",
     "output_type": "stream",
     "text": [
      "The most relevant dandisets for your question are:\n",
      "\n",
      "1. DANDISET:000044/draft: This dataset consists of electrophysiological recordings of rats navigating different types of mazes. It includes multi-cellular electrophysiological recordings, as well as neck EMG and head-mounted accelerometer signals. The dataset focuses on the effect of novel spatial learning on hippocampal neural firing and LFP patterns.\n",
      "\n",
      "2. DANDISET:000410/draft: This dataset includes electrophysiological data from rats running on different types of tracks. It contains recordings from dorsal CA1 and provides information on spatial representations and the stepping rhythm.\n",
      "\n",
      "3. DANDISET:000115/draft: This dataset includes electrophysiological and behavioral data from rats. It focuses on hippocampal replay and its relation to specific past experiences. The dataset includes dorsal CA1 tetrodes recordings, as well as behavioral data such as port triggers and position tracking.\n",
      "\n",
      "4. DANDISET:000301/draft: This dataset includes electrophysiological data from mouse superior colliculus during whisker-guided virtual navigation. It explores the neural basis of spatial awareness and differentiation between self-generated and externally generated tactile motion.\n",
      "\n",
      "5. DANDISET:000231/draft: This dataset focuses on object recognition in mice. It includes high-speed video of whiskers, along with neuronal activity recordings from the somatosensory cortex. The dataset provides insights into the behavioral strategies, neuronal dynamics, and computations involved in object recognition.\n",
      "\n",
      "Please note that the relevance score is based on the provided information, and you may find other related dandisets as well.\n"
     ]
    }
   ],
   "source": [
    "user_input = \"Are there any datasets that have electrophysiology recordings of a rodent navigating a maze?\"\n",
    "\n",
    "suggestions = suggest_relevant_dandisets(user_input=user_input, model=\"gpt-3.5-turbo-16k\", method=1)\n",
    "print(suggestions)"
   ]
  },
  {
   "cell_type": "code",
   "execution_count": 29,
   "id": "35f1d89a-44fb-41c4-bbbe-832965677341",
   "metadata": {},
   "outputs": [
    {
     "name": "stdout",
     "output_type": "stream",
     "text": [
      "The most relevant dandisets for your question are:\n",
      "\n",
      "1. DANDISET:000044/draft - \"Diversity in neural firing dynamics supports both rigid and learned hippocampal sequences.\" This dataset includes multi-cellular electrophysiological recordings of rats navigating novel mazes. It contains hippocampal recordings as well as neck EMG and head-mounted accelerometer signals.\n",
      "\n",
      "2. DANDISET:000017/draft - \"Distributed coding of choice, action and engagement across the mouse brain.\" This dataset includes electrophysiological recordings from mouse brains during behavioral tasks. It provides insights into how different brain regions process choices, actions, and engagement.\n",
      "\n",
      "3. DANDISET:000006/draft - \"Mouse anterior lateral motor cortex (ALM) in delay response task.\" This dataset includes extracellular electrophysiology recordings from the mouse anterior lateral motor cortex during a delay response task. It focuses on neural activity related to movement execution.\n",
      "\n",
      "4. DANDISET:000053/draft - \"Recordings from medial entorhinal cortex during linear track and open exploration.\" This dataset contains recordings from the medial entorhinal cortex during open field navigation and navigation down a virtual linear track. It combines electrophysiological recordings with eye measurements and inertial measurements of the head.\n",
      "\n",
      "These dandisets provide data on rodent electrophysiology recordings during navigation tasks, which are relevant to your question.\n"
     ]
    }
   ],
   "source": [
    "suggestions = suggest_relevant_dandisets(user_input=user_input, model=\"gpt-3.5-turbo-16k\", method=2)\n",
    "print(suggestions)"
   ]
  },
  {
   "cell_type": "code",
   "execution_count": null,
   "id": "f7fa2e19-3019-4a29-b4ce-816428ecb893",
   "metadata": {},
   "outputs": [],
   "source": []
  }
 ],
 "metadata": {
  "kernelspec": {
   "display_name": "Python 3 (ipykernel)",
   "language": "python",
   "name": "python3"
  },
  "language_info": {
   "codemirror_mode": {
    "name": "ipython",
    "version": 3
   },
   "file_extension": ".py",
   "mimetype": "text/x-python",
   "name": "python",
   "nbconvert_exporter": "python",
   "pygments_lexer": "ipython3",
   "version": "3.8.15"
  }
 },
 "nbformat": 4,
 "nbformat_minor": 5
}
