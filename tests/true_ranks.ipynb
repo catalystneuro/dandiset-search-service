{
 "cells": [
  {
   "cell_type": "markdown",
   "metadata": {},
   "source": [
    "# Script to get true ranks for model evaluation\n",
    "\n",
    "1. Modify the user query\n",
    "2. Click the play button (can take up to 10 seconds to complete) and scroll down to interface\n",
    "3. Choose your top 3 relevant Dandiset options for the given query, ranking them based on Dandiset ID\n",
    "4. Submit form and wait for submission completion message"
   ]
  },
  {
   "cell_type": "code",
   "execution_count": 78,
   "metadata": {},
   "outputs": [
    {
     "name": "stdout",
     "output_type": "stream",
     "text": [
      "All points added to collection dandi_collection\n",
      "Similar dandiset results via simple-based search collected\n"
     ]
    },
    {
     "data": {
      "application/vnd.jupyter.widget-view+json": {
       "model_id": "81dbf5f31c104d5f82ef4986a732f174",
       "version_major": 2,
       "version_minor": 0
      },
      "text/plain": [
       "HTML(value='<b>Query:</b> Are there any dandisets that include EEG data?')"
      ]
     },
     "metadata": {},
     "output_type": "display_data"
    },
    {
     "data": {
      "application/vnd.jupyter.widget-view+json": {
       "model_id": "167b44d79f31482eaed23bc8d447ef91",
       "version_major": 2,
       "version_minor": 0
      },
      "text/plain": [
       "HTML(value='<b>Similar Dandiset Results (click DANDI:ID to learn more)</b>')"
      ]
     },
     "metadata": {},
     "output_type": "display_data"
    },
    {
     "data": {
      "application/vnd.jupyter.widget-view+json": {
       "model_id": "32497453bb2448cb92c3afb9f8382539",
       "version_major": 2,
       "version_minor": 0
      },
      "text/plain": [
       "HTML(value=\"<li><a href='https://dandiarchive.org/dandiset/000574/draft' target='_blank'>DANDI:000574/draft</a…"
      ]
     },
     "metadata": {},
     "output_type": "display_data"
    },
    {
     "data": {
      "application/vnd.jupyter.widget-view+json": {
       "model_id": "486ee980fbc940e482e89bf5ae5396a6",
       "version_major": 2,
       "version_minor": 0
      },
      "text/plain": [
       "HTML(value=\"<li><a href='https://dandiarchive.org/dandiset/000576/draft' target='_blank'>DANDI:000576/draft</a…"
      ]
     },
     "metadata": {},
     "output_type": "display_data"
    },
    {
     "data": {
      "application/vnd.jupyter.widget-view+json": {
       "model_id": "502774d6fa6e478eb2fbfa8cf37a6f58",
       "version_major": 2,
       "version_minor": 0
      },
      "text/plain": [
       "HTML(value=\"<li><a href='https://dandiarchive.org/dandiset/000544/0.230514.1148' target='_blank'>DANDI:000544/…"
      ]
     },
     "metadata": {},
     "output_type": "display_data"
    },
    {
     "data": {
      "application/vnd.jupyter.widget-view+json": {
       "model_id": "9c750f78c837497c967f972d3414514c",
       "version_major": 2,
       "version_minor": 0
      },
      "text/plain": [
       "HTML(value=\"<li><a href='https://dandiarchive.org/dandiset/000411/draft' target='_blank'>DANDI:000411/draft</a…"
      ]
     },
     "metadata": {},
     "output_type": "display_data"
    },
    {
     "data": {
      "application/vnd.jupyter.widget-view+json": {
       "model_id": "7977b29b35014de79395d773bbcffa88",
       "version_major": 2,
       "version_minor": 0
      },
      "text/plain": [
       "HTML(value=\"<li><a href='https://dandiarchive.org/dandiset/000623/draft' target='_blank'>DANDI:000623/draft</a…"
      ]
     },
     "metadata": {},
     "output_type": "display_data"
    },
    {
     "data": {
      "application/vnd.jupyter.widget-view+json": {
       "model_id": "146c9e1d3b9c4120bc61da7fbc4adf2e",
       "version_major": 2,
       "version_minor": 0
      },
      "text/plain": [
       "HTML(value=\"<li><a href='https://dandiarchive.org/dandiset/000458/0.230317.0039' target='_blank'>DANDI:000458/…"
      ]
     },
     "metadata": {},
     "output_type": "display_data"
    },
    {
     "data": {
      "application/vnd.jupyter.widget-view+json": {
       "model_id": "51a097104757426dae6b04eb47219dd1",
       "version_major": 2,
       "version_minor": 0
      },
      "text/plain": [
       "HTML(value='<b>Rank 3 Dandisets based on DANDI:ID</b>')"
      ]
     },
     "metadata": {},
     "output_type": "display_data"
    },
    {
     "data": {
      "application/vnd.jupyter.widget-view+json": {
       "model_id": "da6123612d35486f9d95996141574d3b",
       "version_major": 2,
       "version_minor": 0
      },
      "text/plain": [
       "Dropdown(description='Rank #1:', options=('Choose a dandiset', 'DANDI:000574/draft', 'DANDI:000576/draft', 'DA…"
      ]
     },
     "metadata": {},
     "output_type": "display_data"
    },
    {
     "data": {
      "application/vnd.jupyter.widget-view+json": {
       "model_id": "94116a3cf7764c1992a328d6e4a3434d",
       "version_major": 2,
       "version_minor": 0
      },
      "text/plain": [
       "Dropdown(description='Rank #2:', options=('Choose a dandiset', 'DANDI:000574/draft', 'DANDI:000576/draft', 'DA…"
      ]
     },
     "metadata": {},
     "output_type": "display_data"
    },
    {
     "data": {
      "application/vnd.jupyter.widget-view+json": {
       "model_id": "b62413a616744a64880b1d98d5a9bb49",
       "version_major": 2,
       "version_minor": 0
      },
      "text/plain": [
       "Dropdown(description='Rank #3:', options=('Choose a dandiset', 'DANDI:000574/draft', 'DANDI:000576/draft', 'DA…"
      ]
     },
     "metadata": {},
     "output_type": "display_data"
    },
    {
     "data": {
      "application/vnd.jupyter.widget-view+json": {
       "model_id": "1844399efe534f7a9e87e462ca9defcc",
       "version_major": 2,
       "version_minor": 0
      },
      "text/plain": [
       "Button(description='Submit Ranks', style=ButtonStyle())"
      ]
     },
     "metadata": {},
     "output_type": "display_data"
    }
   ],
   "source": [
    "# ----------------------------------------------------- #\n",
    "\n",
    "user_query = \"Are there any dandisets that include EEG data?\" # Edit query string \n",
    "\n",
    "# ----------------------------------------------------- #\n",
    "\n",
    "import sys\n",
    "sys.path.append(\"..\")\n",
    "\n",
    "import json\n",
    "from dandi.dandiapi import DandiAPIClient, RemoteDandiset\n",
    "from rest.clients.qdrant import QdrantClient\n",
    "from rest.clients.openai import OpenaiClient\n",
    "from IPython.display import display, clear_output\n",
    "import ipywidgets as widgets\n",
    "\n",
    "# number of similar results to fetch (adjust based on model)\n",
    "TOP_K = 6\n",
    "\n",
    "# semantic \"simple\" search vs keyword-based \"keyword\" search (adjust based on model)\n",
    "METHOD = \"simple\"\n",
    "\n",
    "\n",
    "# Populate Qdrant\n",
    "def populate_qdrant():\n",
    "    with open(\"../data/qdrant_points.json\", \"r\") as file:\n",
    "        emb = json.load(file)\n",
    "    qdrant_client = QdrantClient(host=\"https://906c3b3f-d3ff-4497-905f-2d7089487cf9.us-east4-0.gcp.cloud.qdrant.io\")\n",
    "    qdrant_client.create_collection(collection_name=\"dandi_collection\")\n",
    "    qdrant_client.add_points_to_collection(collection_name=\"dandi_collection\", embeddings_objects=emb)\n",
    "    return qdrant_client\n",
    "\n",
    "\n",
    "# Get semantic search results\n",
    "def get_similar_results(query: str, qdrant_client: QdrantClient):\n",
    "    similar_results = qdrant_client.query_from_user_input(text=query, collection_name=\"dandi_collection\", top_k=TOP_K)\n",
    "    return similar_results\n",
    "\n",
    "def get_keyword_results(query: str, openai_client: OpenaiClient, qdrant_client: QdrantClient):\n",
    "    keywords = openai_client.keywords_extraction(user_input=query)\n",
    "    similar_results = get_similar_results(query=\"\".join(keywords), qdrant_client=qdrant_client)\n",
    "    return similar_results\n",
    "\n",
    "\n",
    "qdrant_client = populate_qdrant()\n",
    "if METHOD == \"simple\":\n",
    "    similar_results = get_similar_results(user_query, qdrant_client)\n",
    "else:\n",
    "    openai_client = OpenaiClient()\n",
    "    similar_results = get_keyword_results(user_query, openai_client, qdrant_client)\n",
    "similar_results = [id for id, _ in similar_results]\n",
    "print(f\"Similar dandiset results via {METHOD}-based search collected\")\n",
    "\n",
    "# Display selected query\n",
    "query_title = widgets.HTML(value=f\"<b>Query:</b> {user_query}\")\n",
    "display(query_title)\n",
    "\n",
    "\n",
    "# Display information about each relevant dandiset\n",
    "dandisets_title = widgets.HTML(value=\"<b>Similar Dandiset Results (click DANDI:ID to learn more)</b>\")\n",
    "display(dandisets_title)\n",
    "for dandiset_result in similar_results:\n",
    "    dandiset_path = dandiset_result.split(\":\")[-1]\n",
    "    dandiset_archive_link = f\"https://dandiarchive.org/dandiset/{dandiset_path}\"\n",
    "    dandi_client = DandiAPIClient()\n",
    "    dandiset_id, version_id = dandiset_path.split(\"/\")\n",
    "    dandiset = RemoteDandiset(dandi_client, dandiset_id, version_id)\n",
    "    dandiset_title = dandiset.get_metadata().name\n",
    "    dandiset_text = widgets.HTML(value=f\"\"\"<li><a href='{dandiset_archive_link}' target='_blank'>{dandiset_result}</a> (<b>Title:</b> {dandiset_title})</li>\"\"\")\n",
    "    display(dandiset_text)\n",
    "\n",
    "\n",
    "# Create form submission interface for user feedback\n",
    "form_title = widgets.HTML(value=\"<b>Rank 3 Dandisets based on DANDI:ID</b>\")\n",
    "initial_value = \"Choose a dandiset\"\n",
    "rank_dropdown = [widgets.Dropdown(options=[initial_value] + similar_results, description=f\"Rank #{i+1}:\", value=initial_value) for i in range(3)]\n",
    "submit_button = widgets.Button(description=\"Submit Ranks\")\n",
    "output = widgets.Output()\n",
    "\n",
    "\n",
    "def on_button_click(b):\n",
    "    ranks = [rank.value for rank in rank_dropdown]\n",
    "    if initial_value in ranks:\n",
    "        print(\"Ensure each rank has a designated Dandiset!\")\n",
    "    elif len(set(ranks)) != len(ranks):\n",
    "        print(\"Please avoid selecting the same Dandiset for multiple rankings!\")\n",
    "    else:            \n",
    "        # Store prompt, corresponding (rank: int, dandiset_id: str) pair, top_k, method values\n",
    "\n",
    "        # End script\n",
    "        clear_output()\n",
    "        print(\"Submission complete. Thank you!\")\n",
    "\n",
    "\n",
    "submit_button.on_click(on_button_click)\n",
    "\n",
    "# Show display\n",
    "display(form_title)\n",
    "display(rank_dropdown[0], rank_dropdown[1], rank_dropdown[2])\n",
    "display(submit_button)"
   ]
  }
 ],
 "metadata": {
  "kernelspec": {
   "display_name": "dssvenv",
   "language": "python",
   "name": "python3"
  },
  "language_info": {
   "codemirror_mode": {
    "name": "ipython",
    "version": 3
   },
   "file_extension": ".py",
   "mimetype": "text/x-python",
   "name": "python",
   "nbconvert_exporter": "python",
   "pygments_lexer": "ipython3",
   "version": "3.11.6"
  }
 },
 "nbformat": 4,
 "nbformat_minor": 2
}
