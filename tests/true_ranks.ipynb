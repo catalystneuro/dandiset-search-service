{
 "cells": [
  {
   "cell_type": "markdown",
   "metadata": {},
   "source": [
    "# Script to get true ranks for model evaluation\n",
    "\n",
    "- Select/edit user query\n",
    "- Run the code block below\n",
    "- An interface should pop up\n",
    "- Select 3 dandisets you believe are most relevant to your chosen query\n",
    "- Submit your responses after choosing selections"
   ]
  },
  {
   "cell_type": "code",
   "execution_count": 59,
   "metadata": {},
   "outputs": [
    {
     "name": "stdout",
     "output_type": "stream",
     "text": [
      "All points added to collection dandi_collection\n",
      "[('DANDI:000574/draft', 0.8122482), ('DANDI:000576/draft', 0.8072483), ('DANDI:000544/0.230514.1148', 0.80142874), ('DANDI:000411/draft', 0.7971077), ('DANDI:000623/draft', 0.7931358), ('DANDI:000458/0.230317.0039', 0.7879513)]\n"
     ]
    }
   ],
   "source": [
    "# -----------------------------------------------------\n",
    "\n",
    "user_query = \"Are there any dandisets that include EEG data?\" # Edit query here\n",
    "\n",
    "# -----------------------------------------------------\n",
    "\n",
    "import json\n",
    "from rest.clients.qdrant import QdrantClient\n",
    "\n",
    "# Populate Qdrant\n",
    "with open(\"data/qdrant_points.json\", \"r\") as file:\n",
    "    emb = json.load(file)\n",
    "\n",
    "qdrant_client = QdrantClient(host=\"https://906c3b3f-d3ff-4497-905f-2d7089487cf9.us-east4-0.gcp.cloud.qdrant.io\")\n",
    "qdrant_client.create_collection(collection_name=\"dandi_collection\")\n",
    "qdrant_client.add_points_to_collection(collection_name=\"dandi_collection\", embeddings_objects=emb)\n",
    "\n",
    "# Get semantic search results\n",
    "similar_results = qdrant_client.query_from_user_input(\n",
    "    text=user_query,\n",
    "    collection_name=\"dandi_collection\",\n",
    "    top_k=6,\n",
    ")\n",
    "print(similar_results)\n",
    "\n",
    "# 2. User interface for ranking 3 dandisets\n",
    "\n",
    "# 3. Upload results to database"
   ]
  }
 ],
 "metadata": {
  "kernelspec": {
   "display_name": "dssvenv",
   "language": "python",
   "name": "python3"
  },
  "language_info": {
   "codemirror_mode": {
    "name": "ipython",
    "version": 3
   },
   "file_extension": ".py",
   "mimetype": "text/x-python",
   "name": "python",
   "nbconvert_exporter": "python",
   "pygments_lexer": "ipython3",
   "version": "3.11.6"
  }
 },
 "nbformat": 4,
 "nbformat_minor": 2
}
