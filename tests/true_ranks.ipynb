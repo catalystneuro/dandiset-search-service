{
 "cells": [
  {
   "cell_type": "markdown",
   "metadata": {},
   "source": [
    "# Script to get true ranks for model evaluation\n",
    "\n",
    "- Select/edit user query\n",
    "- Run the code block below\n",
    "- Choose and rank the 3 (out of the 6) most relevant dandisets\n",
    "- Submit"
   ]
  },
  {
   "cell_type": "code",
   "execution_count": 37,
   "metadata": {},
   "outputs": [
    {
     "name": "stdout",
     "output_type": "stream",
     "text": [
      "All points added to collection dandi_collection\n"
     ]
    },
    {
     "data": {
      "application/vnd.jupyter.widget-view+json": {
       "model_id": "35c34591a35a4119802f22a45120f2e3",
       "version_major": 2,
       "version_minor": 0
      },
      "text/plain": [
       "Dropdown(description='Rank #1:', options=('Choose a dandiset', 'https://dandiarchive.org/dandiset/000574/draft…"
      ]
     },
     "metadata": {},
     "output_type": "display_data"
    },
    {
     "data": {
      "application/vnd.jupyter.widget-view+json": {
       "model_id": "cf098401a88443f6ae019e330cb1b134",
       "version_major": 2,
       "version_minor": 0
      },
      "text/plain": [
       "Dropdown(description='Rank #2:', options=('Choose a dandiset', 'https://dandiarchive.org/dandiset/000574/draft…"
      ]
     },
     "metadata": {},
     "output_type": "display_data"
    },
    {
     "data": {
      "application/vnd.jupyter.widget-view+json": {
       "model_id": "0dc1163b6adf4c22a67a809040c98dfe",
       "version_major": 2,
       "version_minor": 0
      },
      "text/plain": [
       "Dropdown(description='Rank #3:', options=('Choose a dandiset', 'https://dandiarchive.org/dandiset/000574/draft…"
      ]
     },
     "metadata": {},
     "output_type": "display_data"
    },
    {
     "data": {
      "application/vnd.jupyter.widget-view+json": {
       "model_id": "e3747d6160fe49e7bf8150ef7f3e80d9",
       "version_major": 2,
       "version_minor": 0
      },
      "text/plain": [
       "Button(description='Submit Ranks', style=ButtonStyle())"
      ]
     },
     "metadata": {},
     "output_type": "display_data"
    }
   ],
   "source": [
    "# -----------------------------------------------------\n",
    "\n",
    "user_query = \"Are there any dandisets that include EEG data?\" # Edit query here\n",
    "\n",
    "# -----------------------------------------------------\n",
    "\n",
    "import sys\n",
    "sys.path.append(\"..\")\n",
    "\n",
    "import json\n",
    "import dandi\n",
    "from rest.clients.qdrant import QdrantClient\n",
    "import ipywidgets as widgets\n",
    "from IPython.display import display, clear_output\n",
    "\n",
    "\n",
    "# Populate Qdrant\n",
    "def populate_qdrant():\n",
    "    with open(\"../data/qdrant_points.json\", \"r\") as file:\n",
    "        emb = json.load(file)\n",
    "\n",
    "    qdrant_client = QdrantClient(host=\"https://906c3b3f-d3ff-4497-905f-2d7089487cf9.us-east4-0.gcp.cloud.qdrant.io\")\n",
    "    qdrant_client.create_collection(collection_name=\"dandi_collection\")\n",
    "    qdrant_client.add_points_to_collection(collection_name=\"dandi_collection\", embeddings_objects=emb)\n",
    "\n",
    "    return qdrant_client\n",
    "\n",
    "\n",
    "# Get semantic search results\n",
    "def get_similar_results(qdrant_client: QdrantClient):\n",
    "    similar_results = qdrant_client.query_from_user_input(\n",
    "        text=user_query,\n",
    "        collection_name=\"dandi_collection\",\n",
    "        top_k=6, # adjust based on model's number of similar results\n",
    "    )\n",
    "    return similar_results\n",
    "\n",
    "\n",
    "client = populate_qdrant()\n",
    "similar_results = get_similar_results(client)\n",
    "\n",
    "\n",
    "# Create interface for user feedback\n",
    "options = [f\"https://dandiarchive.org/dandiset/{dandiset_id[0].split(':')[-1]}\" for dandiset_id in similar_results]\n",
    "\n",
    "# display information about each relevant dandiset\n",
    "\n",
    "\n",
    "initial_value = \"Choose a dandiset\"\n",
    "rank_dd = [widgets.Dropdown(options=[initial_value] + options, description=f\"Rank #{i+1}:\", value=initial_value) for i in range(3)]\n",
    "\n",
    "submit_button = widgets.Button(description=\"Submit Ranks\")\n",
    "\n",
    "\n",
    "def on_button_click(b):\n",
    "    ranks = [rank.value for rank in rank_dd]\n",
    "    if initial_value in ranks:\n",
    "        print(\"Ensure each rank has a designated Dandiset!\")\n",
    "    elif len(set(ranks)) != len(ranks):\n",
    "        print(\"Please avoid selecting the same Dandiset for multiple rankings!\")\n",
    "\n",
    "    else:            \n",
    "        # store prompt and corresponding (rank: int, dandiset_id: str) pair\n",
    "\n",
    "        # end script\n",
    "        clear_output()\n",
    "        print(\"Submission complete. Thank you!\")\n",
    "\n",
    "\n",
    "submit_button.on_click(on_button_click)\n",
    "\n",
    "\n",
    "# Show display\n",
    "display(rank_dd[0], rank_dd[1], rank_dd[2])\n",
    "display(submit_button)"
   ]
  }
 ],
 "metadata": {
  "kernelspec": {
   "display_name": "dssvenv",
   "language": "python",
   "name": "python3"
  },
  "language_info": {
   "codemirror_mode": {
    "name": "ipython",
    "version": 3
   },
   "file_extension": ".py",
   "mimetype": "text/x-python",
   "name": "python",
   "nbconvert_exporter": "python",
   "pygments_lexer": "ipython3",
   "version": "3.11.6"
  }
 },
 "nbformat": 4,
 "nbformat_minor": 2
}
